{
 "cells": [
  {
   "cell_type": "code",
   "execution_count": 1,
   "metadata": {},
   "outputs": [],
   "source": [
    "import numpy as np\n",
    "import subprocess\n",
    "from PIL import Image\n",
    "import pyqrcode\n",
    "from pyzbar.pyzbar import decode\n",
    "import os"
   ]
  },
  {
   "cell_type": "code",
   "execution_count": 2,
   "metadata": {},
   "outputs": [],
   "source": [
    "def get_qr_array(m):\n",
    "    qr = pyqrcode.create(m, error='H')\n",
    "    t = np.array([[1-int(z) for z in x] for x in qr.text().split('\\n')[:-1]])\n",
    "    return t"
   ]
  },
  {
   "cell_type": "code",
   "execution_count": 3,
   "metadata": {},
   "outputs": [],
   "source": [
    "def qr_rgb_1_encode(frame, size=(400, 400)):\n",
    "    m = ''.join(str(x) for x in np.random.randint(0, 2, (10,)).tolist())\n",
    "    t = get_qr_array(m)\n",
    "    rgb = np.repeat(t[:, :, np.newaxis], 3, axis=2)\n",
    "    rgb = np.uint8(rgb * 255)\n",
    "    img = Image.fromarray(rgb, 'RGB')\n",
    "    img = img.resize(size)\n",
    "    frame.paste(img)\n",
    "    return frame, m"
   ]
  },
  {
   "cell_type": "code",
   "execution_count": 4,
   "metadata": {},
   "outputs": [],
   "source": [
    "def qr_rgb_3_encode(frame, size=(400, 400)):\n",
    "    ms = []\n",
    "    rgb = []\n",
    "    for i in range(3):\n",
    "        m = ''.join(str(x) for x in np.random.randint(0, 2, (100,)).tolist())\n",
    "        ms.append(m)\n",
    "        rgb.append(get_qr_array(m))\n",
    "    rgb = np.stack(rgb, axis=2)\n",
    "    rgb = np.uint8(rgb * 255)\n",
    "    img = Image.fromarray(rgb, 'RGB')\n",
    "    img = img.resize(size)\n",
    "    frame.paste(img)\n",
    "    return frame, ms"
   ]
  },
  {
   "cell_type": "code",
   "execution_count": 5,
   "metadata": {},
   "outputs": [],
   "source": [
    "def qr_rgb_1_decode(frame, size=(400, 400)):\n",
    "    f = frame.crop((0, 0, size[0], size[1]))\n",
    "    res = decode(f)\n",
    "    if not res:\n",
    "        return ''\n",
    "    return decode(f)[0].data.decode('utf-8')\n",
    "   "
   ]
  },
  {
   "cell_type": "code",
   "execution_count": 6,
   "metadata": {},
   "outputs": [],
   "source": [
    "def qr_rgb_3_decode(frame, size=(400, 400)):\n",
    "    f = np.array(frame.crop((0, 0, size[0], size[1])))\n",
    "    ms = []\n",
    "    for i in range(3):\n",
    "        t = f[:, :, i][:, :, np.newaxis]\n",
    "        t = np.repeat(t, 3, axis=2)\n",
    "        t = Image.fromarray(t, 'RGB')\n",
    "        res = decode(t)\n",
    "        if res:\n",
    "            ms.append(res[0].data.decode('utf-8'))\n",
    "        else:\n",
    "            ms.append([])\n",
    "    return ms"
   ]
  },
  {
   "cell_type": "code",
   "execution_count": 7,
   "metadata": {},
   "outputs": [
    {
     "name": "stdout",
     "output_type": "stream",
     "text": [
      "[1, 3, [1, 2]]\n"
     ]
    }
   ],
   "source": [
    "a =  [1,3]\n",
    "a.append([1,2])\n",
    "print a"
   ]
  },
  {
   "cell_type": "code",
   "execution_count": 8,
   "metadata": {},
   "outputs": [],
   "source": [
    "def put_data(directory, version=0):\n",
    "    '''embedes all of the png files in a directory with a qr code and saves them in place.\n",
    "    returns the string representations of the qr codes in a list\n",
    "    version 0 stands for 1 channel version 1 stands for 2 channel'''\n",
    "    if version == 0:\n",
    "        m = len(os.listdir(directory)) * [None]\n",
    "    if version == 1:\n",
    "        m = []\n",
    "    for i, img in enumerate(os.listdir(directory)):\n",
    "        frame = Image.open(directory + '/' + img)\n",
    "        if version == 0:\n",
    "            f, m[i] = qr_rgb_1_encode(frame)\n",
    "        elif version == 1:\n",
    "            f, k = qr_rgb_3_encode(frame)\n",
    "            m.append(k[0])\n",
    "            m.append(k[1])\n",
    "            m.append(k[2])\n",
    "        f.save(directory + '/' + img)\n",
    "        if not i % 10:\n",
    "            print i\n",
    "    return m"
   ]
  },
  {
   "cell_type": "code",
   "execution_count": 9,
   "metadata": {},
   "outputs": [],
   "source": [
    "def get_data(directory, version=0):\n",
    "    '''reads the qr codes in all of the png files in the directory\n",
    "    returns the string representations of the qr codes in a list\n",
    "    version 0 stands for 1 channel version 1 stands for 2 channel'''\n",
    "    if version == 0:\n",
    "        m = len(os.listdir(directory)) * [None]\n",
    "    if version == 1:\n",
    "        m = []\n",
    "    for i, img in enumerate(os.listdir(directory)):\n",
    "        frame = Image.open(directory + '/' + img)\n",
    "        if version == 0:\n",
    "            m[i] = qr_rgb_1_decode(frame)\n",
    "        elif version == 1:\n",
    "            k = qr_rgb_3_decode(frame)\n",
    "            m.append(k[0])\n",
    "            m.append(k[1])\n",
    "            m.append(k[2])\n",
    "\n",
    "    return m\n",
    "    \n",
    "    "
   ]
  },
  {
   "cell_type": "code",
   "execution_count": 10,
   "metadata": {},
   "outputs": [
    {
     "name": "stdout",
     "output_type": "stream",
     "text": [
      "start\n",
      "0\n",
      "10\n",
      "20\n",
      "30\n",
      "40\n",
      "50\n",
      "60\n",
      "70\n",
      "80\n",
      "90\n",
      "100\n",
      "110\n",
      "120\n",
      "qr codes embedded\n",
      "done encoding\n",
      "done decoding\n",
      "40.2203856749% of the qr codes were decoded\n",
      "146\n"
     ]
    },
    {
     "data": {
      "text/plain": [
       "1"
      ]
     },
     "execution_count": 10,
     "metadata": {},
     "output_type": "execute_result"
    }
   ],
   "source": [
    "print 'start'\n",
    "init_m = put_data('frames',1)\n",
    "print 'qr codes embedded'\n",
    "subprocess.call([\"ffmpeg\", \"-i\", \"frames/image-%04d.png\", \"-c:v\", \"libvpx\", \"temp.webm\"])\n",
    "print \"done encoding\"\n",
    "subprocess.call([\"ffmpeg\", \"-i\", \"temp.webm\", \"-vf\", \"scale=800:600\", \"outframes/image-%04d.png\"])\n",
    "print \"done decoding\"\n",
    "final_m = get_data('outframes',1)\n",
    "\n",
    "ctr = 0\n",
    "for i, f in zip(init_m, final_m):\n",
    "    if i == f:\n",
    "        ctr += 1\n",
    "print str(ctr * 1.0 /len(init_m) * 100) + \"% of the qr codes were decoded\"\n",
    "print ctr\n",
    "\n",
    "subprocess.call([\"rm\", \"temp.webm\"])\n",
    "subprocess.call([\"rm\", \"outframes/*\"])\n",
    "\n",
    "\n",
    "\n",
    "#frame = Image.open('frames/image-0422.png')\n",
    "#f, m0 = qr_rgb_3_encode(frame)\n",
    "#m1 = qr_rgb_3_decode(f)\n",
    "#print(m0 == m1)"
   ]
  },
  {
   "cell_type": "code",
   "execution_count": 11,
   "metadata": {},
   "outputs": [
    {
     "ename": "IOError",
     "evalue": "[Errno 2] No such file or directory: 'frames/image-0422.png'",
     "output_type": "error",
     "traceback": [
      "\u001b[0;31m---------------------------------------------------------------------------\u001b[0m",
      "\u001b[0;31mIOError\u001b[0m                                   Traceback (most recent call last)",
      "\u001b[0;32m<ipython-input-11-229906b5b7df>\u001b[0m in \u001b[0;36m<module>\u001b[0;34m()\u001b[0m\n\u001b[0;32m----> 1\u001b[0;31m \u001b[0mframe\u001b[0m \u001b[0;34m=\u001b[0m \u001b[0mImage\u001b[0m\u001b[0;34m.\u001b[0m\u001b[0mopen\u001b[0m\u001b[0;34m(\u001b[0m\u001b[0;34m'frames/image-0422.png'\u001b[0m\u001b[0;34m)\u001b[0m\u001b[0;34m\u001b[0m\u001b[0m\n\u001b[0m\u001b[1;32m      2\u001b[0m \u001b[0;31m# f = np.array(frame.convert('HSV'))\u001b[0m\u001b[0;34m\u001b[0m\u001b[0;34m\u001b[0m\u001b[0m\n\u001b[1;32m      3\u001b[0m \u001b[0mf\u001b[0m \u001b[0;34m=\u001b[0m \u001b[0mnp\u001b[0m\u001b[0;34m.\u001b[0m\u001b[0marray\u001b[0m\u001b[0;34m(\u001b[0m\u001b[0mframe\u001b[0m\u001b[0;34m.\u001b[0m\u001b[0mconvert\u001b[0m\u001b[0;34m(\u001b[0m\u001b[0;34m'YCbCr'\u001b[0m\u001b[0;34m)\u001b[0m\u001b[0;34m)\u001b[0m\u001b[0;34m\u001b[0m\u001b[0m\n\u001b[1;32m      4\u001b[0m \u001b[0;32mprint\u001b[0m\u001b[0;34m(\u001b[0m\u001b[0mnp\u001b[0m\u001b[0;34m.\u001b[0m\u001b[0mmax\u001b[0m\u001b[0;34m(\u001b[0m\u001b[0mf\u001b[0m\u001b[0;34m[\u001b[0m\u001b[0;34m:\u001b[0m\u001b[0;34m,\u001b[0m \u001b[0;34m:\u001b[0m\u001b[0;34m,\u001b[0m \u001b[0;36m0\u001b[0m\u001b[0;34m]\u001b[0m\u001b[0;34m)\u001b[0m\u001b[0;34m,\u001b[0m \u001b[0mnp\u001b[0m\u001b[0;34m.\u001b[0m\u001b[0mmin\u001b[0m\u001b[0;34m(\u001b[0m\u001b[0mf\u001b[0m\u001b[0;34m[\u001b[0m\u001b[0;34m:\u001b[0m\u001b[0;34m,\u001b[0m \u001b[0;34m:\u001b[0m\u001b[0;34m,\u001b[0m \u001b[0;36m0\u001b[0m\u001b[0;34m]\u001b[0m\u001b[0;34m)\u001b[0m\u001b[0;34m)\u001b[0m\u001b[0;34m\u001b[0m\u001b[0m\n\u001b[1;32m      5\u001b[0m \u001b[0mf\u001b[0m\u001b[0;34m[\u001b[0m\u001b[0;34m:\u001b[0m\u001b[0;34m,\u001b[0m \u001b[0;34m:\u001b[0m\u001b[0;34m,\u001b[0m \u001b[0;36m0\u001b[0m\u001b[0;34m]\u001b[0m \u001b[0;34m=\u001b[0m \u001b[0mnp\u001b[0m\u001b[0;34m.\u001b[0m\u001b[0mclip\u001b[0m\u001b[0;34m(\u001b[0m\u001b[0mf\u001b[0m\u001b[0;34m[\u001b[0m\u001b[0;34m:\u001b[0m\u001b[0;34m,\u001b[0m \u001b[0;34m:\u001b[0m\u001b[0;34m,\u001b[0m \u001b[0;36m0\u001b[0m\u001b[0;34m]\u001b[0m \u001b[0;34m+\u001b[0m \u001b[0;36m5\u001b[0m\u001b[0;34m,\u001b[0m \u001b[0;36m0\u001b[0m\u001b[0;34m,\u001b[0m \u001b[0;36m255\u001b[0m\u001b[0;34m)\u001b[0m\u001b[0;34m\u001b[0m\u001b[0m\n",
      "\u001b[0;32m/usr/local/lib/python2.7/site-packages/PIL/Image.pyc\u001b[0m in \u001b[0;36mopen\u001b[0;34m(fp, mode)\u001b[0m\n\u001b[1;32m   2546\u001b[0m \u001b[0;34m\u001b[0m\u001b[0m\n\u001b[1;32m   2547\u001b[0m     \u001b[0;32mif\u001b[0m \u001b[0mfilename\u001b[0m\u001b[0;34m:\u001b[0m\u001b[0;34m\u001b[0m\u001b[0m\n\u001b[0;32m-> 2548\u001b[0;31m         \u001b[0mfp\u001b[0m \u001b[0;34m=\u001b[0m \u001b[0mbuiltins\u001b[0m\u001b[0;34m.\u001b[0m\u001b[0mopen\u001b[0m\u001b[0;34m(\u001b[0m\u001b[0mfilename\u001b[0m\u001b[0;34m,\u001b[0m \u001b[0;34m\"rb\"\u001b[0m\u001b[0;34m)\u001b[0m\u001b[0;34m\u001b[0m\u001b[0m\n\u001b[0m\u001b[1;32m   2549\u001b[0m         \u001b[0mexclusive_fp\u001b[0m \u001b[0;34m=\u001b[0m \u001b[0mTrue\u001b[0m\u001b[0;34m\u001b[0m\u001b[0m\n\u001b[1;32m   2550\u001b[0m \u001b[0;34m\u001b[0m\u001b[0m\n",
      "\u001b[0;31mIOError\u001b[0m: [Errno 2] No such file or directory: 'frames/image-0422.png'"
     ]
    }
   ],
   "source": [
    "frame = Image.open('frames/image-0422.png')\n",
    "# f = np.array(frame.convert('HSV'))\n",
    "f = np.array(frame.convert('YCbCr'))\n",
    "print(np.max(f[:, :, 0]), np.min(f[:, :, 0]))\n",
    "f[:, :, 0] = np.clip(f[:, :, 0] + 5, 0, 255)\n",
    "print(np.max(f[:, :, 0]), np.min(f[:, :, 0]))\n",
    "# img = Image.fromarray(f, 'HSV')\n",
    "img = Image.fromarray(f, 'YCbCr')\n",
    "img.convert('RGB')"
   ]
  }
 ],
 "metadata": {
  "kernelspec": {
   "display_name": "Python 2",
   "language": "python",
   "name": "python2"
  },
  "language_info": {
   "codemirror_mode": {
    "name": "ipython",
    "version": 2
   },
   "file_extension": ".py",
   "mimetype": "text/x-python",
   "name": "python",
   "nbconvert_exporter": "python",
   "pygments_lexer": "ipython2",
   "version": "2.7.14"
  }
 },
 "nbformat": 4,
 "nbformat_minor": 2
}
