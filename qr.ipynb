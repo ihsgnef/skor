{
 "cells": [
  {
   "cell_type": "code",
   "execution_count": 1,
   "metadata": {},
   "outputs": [],
   "source": [
    "import numpy as np\n",
    "import subprocess\n",
    "from PIL import Image\n",
    "import pyqrcode\n",
    "from pyzbar.pyzbar import decode\n",
    "import os"
   ]
  },
  {
   "cell_type": "code",
   "execution_count": 2,
   "metadata": {},
   "outputs": [],
   "source": [
    "def get_qr_array(m):\n",
    "    qr = pyqrcode.create(m, error='L', version=40, mode='binary')\n",
    "    t = np.array([[1-int(z) for z in x] for x in qr.text().split('\\n')[:-1]])\n",
    "    return t"
   ]
  },
  {
   "cell_type": "code",
   "execution_count": 3,
   "metadata": {},
   "outputs": [],
   "source": [
    "def qr_rgb_1_encode(frame, size=(400, 400)):\n",
    "    m = ''.join(str(x) for x in np.random.randint(0, 2, (2000,)).tolist())\n",
    "    t = get_qr_array(m)\n",
    "    rgb = np.repeat(t[:, :, np.newaxis], 3, axis=2)\n",
    "    rgb = np.uint8(rgb * 255)\n",
    "    img = Image.fromarray(rgb, 'RGB')\n",
    "    img = img.resize(size)\n",
    "    frame.paste(img)\n",
    "    return frame, m"
   ]
  },
  {
   "cell_type": "code",
   "execution_count": 4,
   "metadata": {},
   "outputs": [],
   "source": [
    "def qr_rgb_3_encode(frame, size=(400, 400)):\n",
    "    ms = ''\n",
    "    rgb = []\n",
    "    for i in range(3):\n",
    "        m = ''.join(str(x) for x in np.random.randint(0, 2, (100,)).tolist())\n",
    "        ms += m\n",
    "        rgb.append(get_qr_array(m))\n",
    "    rgb = np.stack(rgb, axis=2)\n",
    "    rgb = np.uint8(rgb * 255)\n",
    "    img = Image.fromarray(rgb, 'RGB')\n",
    "    img = img.resize(size)\n",
    "    frame.paste(img)\n",
    "    return frame, ms"
   ]
  },
  {
   "cell_type": "code",
   "execution_count": 5,
   "metadata": {},
   "outputs": [],
   "source": [
    "def qr_rgb_1_decode(frame, size=(400, 400)):\n",
    "    f = frame.crop((0, 0, size[0], size[1]))\n",
    "    res = decode(f)\n",
    "    if not res:\n",
    "        return ''\n",
    "    return decode(f)[0].data.decode('utf-8')\n",
    "   "
   ]
  },
  {
   "cell_type": "code",
   "execution_count": 6,
   "metadata": {},
   "outputs": [],
   "source": [
    "def qr_rgb_3_decode(frame, size=(400, 400)):\n",
    "    f = np.array(frame.crop((0, 0, size[0], size[1])))\n",
    "    ms = ''\n",
    "    for i in range(3):\n",
    "        t = f[:, :, i][:, :, np.newaxis]\n",
    "        t = np.repeat(t, 3, axis=2)\n",
    "        t = Image.fromarray(t, 'RGB')\n",
    "        if res:\n",
    "            ms += decode(t)[0].data.decode('utf-8')\n",
    "    return ms"
   ]
  },
  {
   "cell_type": "code",
   "execution_count": 7,
   "metadata": {},
   "outputs": [],
   "source": [
    "def put_data(directory):\n",
    "    '''embedes all of the png files in a directory with a qr code and saves them in place.\n",
    "    returns the string representations of the qr codes in a list'''\n",
    "    m = len(os.listdir(directory)) * [None]\n",
    "    for i, img in enumerate(os.listdir(directory)):\n",
    "        frame = Image.open(directory + '/' + img)\n",
    "        f, m[i] = qr_rgb_1_encode(frame)\n",
    "        f.save(directory + '/' + img)\n",
    "    return m"
   ]
  },
  {
   "cell_type": "code",
   "execution_count": 8,
   "metadata": {},
   "outputs": [],
   "source": [
    "def get_data(directory):\n",
    "    '''reads the qr codes in all of the png files in the directory\n",
    "    returns the string representations of the qr codes in a list'''\n",
    "    m = len(os.listdir(directory)) * [None]\n",
    "    for i, img in enumerate(os.listdir(directory)):\n",
    "        frame = Image.open(directory + '/' + img)\n",
    "        m[i] = qr_rgb_1_decode(frame)\n",
    "    return m\n",
    "    \n",
    "    "
   ]
  },
  {
   "cell_type": "code",
   "execution_count": null,
   "metadata": {},
   "outputs": [],
   "source": [
    "init_m = put_data('frames')\n",
    "subprocess.call([\"ffmpeg\", \"-i\", \"frames/image-%04d.png\", \"-c:v\", \"libvpx\", \"temp.webm\"])\n",
    "print \"done encoding\"\n",
    "subprocess.call([\"ffmpeg\", \"-i\", \"temp.webm\", \"-vf\", \"scale=800:600\", \"outframes/image-%04d.png\"])\n",
    "print \"done decoding\"\n",
    "final_m = get_data('outframes')\n",
    "\n",
    "ctr = 0\n",
    "for i, f in zip(init_m, final_m):\n",
    "    if i == f:\n",
    "        ctr += 1\n",
    "print str(ctr/len(init_m) * 100) + \"% of the qr codes were decoded\"\n",
    "\n",
    "#subprocess.call([\"rm\", \"temp.webm\"])\n",
    "subprocess.call([\"rm\", \"outframes/*\"])\n",
    "\n",
    "\n",
    "\n",
    "#frame = Image.open('frames/image-0422.png')\n",
    "#f, m0 = qr_rgb_3_encode(frame)\n",
    "#m1 = qr_rgb_3_decode(f)\n",
    "#print(m0 == m1)"
   ]
  },
  {
   "cell_type": "code",
   "execution_count": null,
   "metadata": {},
   "outputs": [],
   "source": []
  }
 ],
 "metadata": {
  "kernelspec": {
   "display_name": "Python 2",
   "language": "python",
   "name": "python2"
  },
  "language_info": {
   "codemirror_mode": {
    "name": "ipython",
    "version": 2
   },
   "file_extension": ".py",
   "mimetype": "text/x-python",
   "name": "python",
   "nbconvert_exporter": "python",
   "pygments_lexer": "ipython2",
   "version": "2.7.14"
  }
 },
 "nbformat": 4,
 "nbformat_minor": 2
}
