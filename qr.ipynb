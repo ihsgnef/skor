{
 "cells": [
  {
   "cell_type": "code",
   "execution_count": 3,
   "metadata": {},
   "outputs": [],
   "source": [
    "import numpy as np\n",
    "from PIL import Image\n",
    "import pyqrcode\n",
    "from pyzbar.pyzbar import decode"
   ]
  },
  {
   "cell_type": "code",
   "execution_count": 4,
   "metadata": {},
   "outputs": [],
   "source": [
    "def get_qr_array(m):\n",
    "    qr = pyqrcode.create(m, error='L', version=10, mode='binary')\n",
    "    t = np.array([[1-int(z) for z in x] for x in qr.text().split('\\n')[:-1]])\n",
    "    return t"
   ]
  },
  {
   "cell_type": "code",
   "execution_count": 5,
   "metadata": {},
   "outputs": [],
   "source": [
    "def qr_rgb_1_encode(frame, size=(400, 400)):\n",
    "    m = ''.join(str(x) for x in np.random.randint(0, 2, (100,)).tolist())\n",
    "    t = get_qr_array(m)\n",
    "    rgb = np.repeat(t[:, :, np.newaxis], 3, axis=2)\n",
    "    rgb = np.uint8(rgb * 255)\n",
    "    img = Image.fromarray(rgb, 'RGB')\n",
    "    img = img.resize(size)\n",
    "    frame.paste(img)\n",
    "    return frame, m"
   ]
  },
  {
   "cell_type": "code",
   "execution_count": 6,
   "metadata": {},
   "outputs": [],
   "source": [
    "def qr_rgb_3_encode(frame, size=(400, 400)):\n",
    "    ms = ''\n",
    "    rgb = []\n",
    "    for i in range(3):\n",
    "        m = ''.join(str(x) for x in np.random.randint(0, 2, (100,)).tolist())\n",
    "        ms += m\n",
    "        rgb.append(get_qr_array(m))\n",
    "    rgb = np.stack(rgb, axis=2)\n",
    "    rgb = np.uint8(rgb * 255)\n",
    "    img = Image.fromarray(rgb, 'RGB')\n",
    "    img = img.resize(size)\n",
    "    frame.paste(img)\n",
    "    return frame, ms"
   ]
  },
  {
   "cell_type": "code",
   "execution_count": 7,
   "metadata": {},
   "outputs": [],
   "source": [
    "def qr_rgb_1_decode(frame, size=(400, 400)):\n",
    "    f = frame.crop((0, 0, size[0], size[1]))\n",
    "    return decode(f)[0].data.decode('utf-8')"
   ]
  },
  {
   "cell_type": "code",
   "execution_count": 8,
   "metadata": {},
   "outputs": [],
   "source": [
    "def qr_rgb_3_decode(frame, size=(400, 400)):\n",
    "    f = np.array(frame.crop((0, 0, size[0], size[1])))\n",
    "    ms = ''\n",
    "    for i in range(3):\n",
    "        t = f[:, :, i][:, :, np.newaxis]\n",
    "        t = np.repeat(t, 3, axis=2)\n",
    "        t = Image.fromarray(t, 'RGB')\n",
    "        ms += decode(t)[0].data.decode('utf-8')\n",
    "    return ms"
   ]
  },
  {
   "cell_type": "code",
   "execution_count": 9,
   "metadata": {},
   "outputs": [
    {
     "name": "stdout",
     "output_type": "stream",
     "text": [
      "True\n",
      "True\n"
     ]
    }
   ],
   "source": [
    "frame = Image.open('frames/image-0422.png')\n",
    "f, m0 = qr_rgb_1_encode(frame)\n",
    "m1 = qr_rgb_1_decode(f)\n",
    "print(m0 == m1)\n",
    "\n",
    "frame = Image.open('frames/image-0422.png')\n",
    "f, m0 = qr_rgb_3_encode(frame)\n",
    "m1 = qr_rgb_3_decode(f)\n",
    "print(m0 == m1)"
   ]
  },
  {
   "cell_type": "code",
   "execution_count": null,
   "metadata": {},
   "outputs": [],
   "source": []
  }
 ],
 "metadata": {
  "kernelspec": {
   "display_name": "Python 2",
   "language": "python",
   "name": "python2"
  },
  "language_info": {
   "codemirror_mode": {
    "name": "ipython",
    "version": 2
   },
   "file_extension": ".py",
   "mimetype": "text/x-python",
   "name": "python",
   "nbconvert_exporter": "python",
   "pygments_lexer": "ipython2",
   "version": "2.7.14"
  }
 },
 "nbformat": 4,
 "nbformat_minor": 2
}
